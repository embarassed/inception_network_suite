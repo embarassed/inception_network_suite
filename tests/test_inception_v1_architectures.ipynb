{
 "cells": [
  {
   "cell_type": "code",
   "execution_count": 1,
   "metadata": {
    "collapsed": false,
    "deletable": true,
    "editable": true
   },
   "outputs": [],
   "source": [
    "import inception_v1_tests"
   ]
  },
  {
   "cell_type": "code",
   "execution_count": 2,
   "metadata": {
    "collapsed": false,
    "deletable": true,
    "editable": true
   },
   "outputs": [
    {
     "name": "stdout",
     "output_type": "stream",
     "text": [
      "Creating InceptionStem with input shape [64, 224, 224, 3]\n",
      "Creating InceptionModule with input shape [64, 28, 28, 48]\n",
      "Creating InceptionModule with input shape [64, 28, 28, 64]\n",
      "Creating InceptionModule with input shape [64, 14, 14, 120]\n",
      "Creating InceptionModule with input shape [64, 14, 14, 128]\n",
      "Creating InceptionModule with input shape [64, 14, 14, 128]\n",
      "Creating InceptionModule with input shape [64, 14, 14, 128]\n",
      "Creating InceptionModule with input shape [64, 14, 14, 132]\n",
      "Creating InceptionModule with input shape [64, 7, 7, 208]\n",
      "Creating InceptionModule with input shape [64, 7, 7, 208]\n",
      "Running layer 0\n",
      "Output is (64, 28, 28, 48)\n",
      "Running layer 1\n",
      "Output is (64, 28, 28, 64)\n",
      "Running layer 2\n",
      "Output is (64, 28, 28, 120)\n",
      "Max Pooling\n",
      "Running layer 3\n",
      "Output is (64, 14, 14, 128)\n",
      "Running layer 5\n",
      "Output is (64, 14, 14, 128)\n",
      "Running layer 6\n",
      "Output is (64, 14, 14, 128)\n",
      "Running layer 7\n",
      "Output is (64, 14, 14, 132)\n",
      "Running layer 9\n",
      "Output is (64, 14, 14, 208)\n",
      "Max Pooling\n",
      "Running layer 10\n",
      "Output is (64, 7, 7, 208)\n",
      "Running layer 11\n",
      "Output is (64, 7, 7, 256)\n",
      "Running layer 0\n",
      "Output is (64, 28, 28, 48)\n",
      "Running layer 1\n",
      "Output is (64, 28, 28, 64)\n",
      "Running layer 2\n",
      "Output is (64, 28, 28, 120)\n",
      "Max Pooling\n",
      "Running layer 3\n",
      "Output is (64, 14, 14, 128)\n",
      "Running layer 5\n",
      "Output is (64, 14, 14, 128)\n",
      "Running layer 6\n",
      "Output is (64, 14, 14, 128)\n",
      "Running layer 7\n",
      "Output is (64, 14, 14, 132)\n",
      "Running layer 9\n",
      "Output is (64, 14, 14, 208)\n",
      "Max Pooling\n",
      "Running layer 10\n",
      "Output is (64, 7, 7, 208)\n",
      "Running layer 11\n",
      "Output is (64, 7, 7, 256)\n",
      "Running layer 0\n",
      "Output is (64, 28, 28, 48)\n",
      "Running layer 1\n",
      "Output is (64, 28, 28, 64)\n",
      "Running layer 2\n",
      "Output is (64, 28, 28, 120)\n",
      "Max Pooling\n",
      "Running layer 3\n",
      "Output is (64, 14, 14, 128)\n",
      "Running layer 5\n",
      "Output is (64, 14, 14, 128)\n",
      "Running layer 6\n",
      "Output is (64, 14, 14, 128)\n",
      "Running layer 7\n",
      "Output is (64, 14, 14, 132)\n",
      "Running layer 9\n",
      "Output is (64, 14, 14, 208)\n",
      "Max Pooling\n",
      "Running layer 10\n",
      "Output is (64, 7, 7, 208)\n",
      "Running layer 11\n",
      "Output is (64, 7, 7, 256)\n",
      "[<tf.Tensor 'ce_loss_w_0:0' shape=() dtype=float32>, <tf.Tensor 'ce_loss_w_1:0' shape=() dtype=float32>, <tf.Tensor 'ce_loss_w_2:0' shape=() dtype=float32>]\n"
     ]
    },
    {
     "ename": "KeyboardInterrupt",
     "evalue": "",
     "output_type": "error",
     "traceback": [
      "\u001b[0;31m---------------------------------------------------------------------------\u001b[0m",
      "\u001b[0;31mKeyboardInterrupt\u001b[0m                         Traceback (most recent call last)",
      "\u001b[0;32m<ipython-input-2-b749b3b4897a>\u001b[0m in \u001b[0;36m<module>\u001b[0;34m()\u001b[0m\n\u001b[0;32m----> 1\u001b[0;31m \u001b[0minception_v1_tests\u001b[0m\u001b[0;34m.\u001b[0m\u001b[0mrun_module_unit_test\u001b[0m\u001b[0;34m(\u001b[0m\u001b[0muse_fake_data\u001b[0m\u001b[0;34m=\u001b[0m\u001b[0mTrue\u001b[0m\u001b[0;34m,\u001b[0m \u001b[0mtest_mode\u001b[0m\u001b[0;34m=\u001b[0m\u001b[0;34m\"full_model\"\u001b[0m\u001b[0;34m)\u001b[0m\u001b[0;34m\u001b[0m\u001b[0m\n\u001b[0m",
      "\u001b[0;32m/home/rob/Dropbox/Projects/cifar100_inception/tests/inception_v1_tests.pyc\u001b[0m in \u001b[0;36mrun_module_unit_test\u001b[0;34m(use_fake_data, test_mode)\u001b[0m\n\u001b[1;32m    186\u001b[0m                             tf_train_y:batch_y}\n\u001b[1;32m    187\u001b[0m \u001b[0;34m\u001b[0m\u001b[0m\n\u001b[0;32m--> 188\u001b[0;31m                 \u001b[0m_\u001b[0m\u001b[0;34m,\u001b[0m \u001b[0ml\u001b[0m\u001b[0;34m,\u001b[0m \u001b[0mrl\u001b[0m\u001b[0;34m,\u001b[0m \u001b[0mpred\u001b[0m\u001b[0;34m,\u001b[0m \u001b[0ml2lw\u001b[0m \u001b[0;34m=\u001b[0m \u001b[0msess\u001b[0m\u001b[0;34m.\u001b[0m\u001b[0mrun\u001b[0m\u001b[0;34m(\u001b[0m\u001b[0;34m[\u001b[0m\u001b[0mopt\u001b[0m\u001b[0;34m,\u001b[0m \u001b[0mtotal_loss\u001b[0m\u001b[0;34m,\u001b[0m \u001b[0mreg_loss\u001b[0m\u001b[0;34m,\u001b[0m \u001b[0mtrain_predictions\u001b[0m\u001b[0;34m,\u001b[0m \u001b[0ml2_lambda_weight\u001b[0m\u001b[0;34m]\u001b[0m\u001b[0;34m,\u001b[0m \u001b[0mfeed_dict\u001b[0m\u001b[0;34m=\u001b[0m\u001b[0mfeed_dict\u001b[0m\u001b[0;34m)\u001b[0m\u001b[0;34m\u001b[0m\u001b[0m\n\u001b[0m\u001b[1;32m    189\u001b[0m                 \u001b[0mtotal_steps\u001b[0m \u001b[0;34m+=\u001b[0m \u001b[0;36m1\u001b[0m\u001b[0;34m\u001b[0m\u001b[0m\n\u001b[1;32m    190\u001b[0m \u001b[0;34m\u001b[0m\u001b[0m\n",
      "\u001b[0;32m/usr/local/lib/python2.7/dist-packages/tensorflow/python/client/session.pyc\u001b[0m in \u001b[0;36mrun\u001b[0;34m(self, fetches, feed_dict, options, run_metadata)\u001b[0m\n\u001b[1;32m    765\u001b[0m     \u001b[0;32mtry\u001b[0m\u001b[0;34m:\u001b[0m\u001b[0;34m\u001b[0m\u001b[0m\n\u001b[1;32m    766\u001b[0m       result = self._run(None, fetches, feed_dict, options_ptr,\n\u001b[0;32m--> 767\u001b[0;31m                          run_metadata_ptr)\n\u001b[0m\u001b[1;32m    768\u001b[0m       \u001b[0;32mif\u001b[0m \u001b[0mrun_metadata\u001b[0m\u001b[0;34m:\u001b[0m\u001b[0;34m\u001b[0m\u001b[0m\n\u001b[1;32m    769\u001b[0m         \u001b[0mproto_data\u001b[0m \u001b[0;34m=\u001b[0m \u001b[0mtf_session\u001b[0m\u001b[0;34m.\u001b[0m\u001b[0mTF_GetBuffer\u001b[0m\u001b[0;34m(\u001b[0m\u001b[0mrun_metadata_ptr\u001b[0m\u001b[0;34m)\u001b[0m\u001b[0;34m\u001b[0m\u001b[0m\n",
      "\u001b[0;32m/usr/local/lib/python2.7/dist-packages/tensorflow/python/client/session.pyc\u001b[0m in \u001b[0;36m_run\u001b[0;34m(self, handle, fetches, feed_dict, options, run_metadata)\u001b[0m\n\u001b[1;32m    936\u001b[0m                 ' to a larger type (e.g. int64).')\n\u001b[1;32m    937\u001b[0m \u001b[0;34m\u001b[0m\u001b[0m\n\u001b[0;32m--> 938\u001b[0;31m           \u001b[0mnp_val\u001b[0m \u001b[0;34m=\u001b[0m \u001b[0mnp\u001b[0m\u001b[0;34m.\u001b[0m\u001b[0masarray\u001b[0m\u001b[0;34m(\u001b[0m\u001b[0msubfeed_val\u001b[0m\u001b[0;34m,\u001b[0m \u001b[0mdtype\u001b[0m\u001b[0;34m=\u001b[0m\u001b[0msubfeed_dtype\u001b[0m\u001b[0;34m)\u001b[0m\u001b[0;34m\u001b[0m\u001b[0m\n\u001b[0m\u001b[1;32m    939\u001b[0m \u001b[0;34m\u001b[0m\u001b[0m\n\u001b[1;32m    940\u001b[0m           \u001b[0;32mif\u001b[0m \u001b[0;32mnot\u001b[0m \u001b[0msubfeed_t\u001b[0m\u001b[0;34m.\u001b[0m\u001b[0mget_shape\u001b[0m\u001b[0;34m(\u001b[0m\u001b[0;34m)\u001b[0m\u001b[0;34m.\u001b[0m\u001b[0mis_compatible_with\u001b[0m\u001b[0;34m(\u001b[0m\u001b[0mnp_val\u001b[0m\u001b[0;34m.\u001b[0m\u001b[0mshape\u001b[0m\u001b[0;34m)\u001b[0m\u001b[0;34m:\u001b[0m\u001b[0;34m\u001b[0m\u001b[0m\n",
      "\u001b[0;32m/usr/local/lib/python2.7/dist-packages/numpy/core/numeric.pyc\u001b[0m in \u001b[0;36masarray\u001b[0;34m(a, dtype, order)\u001b[0m\n\u001b[1;32m    529\u001b[0m \u001b[0;34m\u001b[0m\u001b[0m\n\u001b[1;32m    530\u001b[0m     \"\"\"\n\u001b[0;32m--> 531\u001b[0;31m     \u001b[0;32mreturn\u001b[0m \u001b[0marray\u001b[0m\u001b[0;34m(\u001b[0m\u001b[0ma\u001b[0m\u001b[0;34m,\u001b[0m \u001b[0mdtype\u001b[0m\u001b[0;34m,\u001b[0m \u001b[0mcopy\u001b[0m\u001b[0;34m=\u001b[0m\u001b[0mFalse\u001b[0m\u001b[0;34m,\u001b[0m \u001b[0morder\u001b[0m\u001b[0;34m=\u001b[0m\u001b[0morder\u001b[0m\u001b[0;34m)\u001b[0m\u001b[0;34m\u001b[0m\u001b[0m\n\u001b[0m\u001b[1;32m    532\u001b[0m \u001b[0;34m\u001b[0m\u001b[0m\n\u001b[1;32m    533\u001b[0m \u001b[0;34m\u001b[0m\u001b[0m\n",
      "\u001b[0;31mKeyboardInterrupt\u001b[0m: "
     ]
    }
   ],
   "source": [
    "inception_v1_tests.run_module_unit_test(use_fake_data=True, test_mode=\"full_model\")"
   ]
  },
  {
   "cell_type": "code",
   "execution_count": null,
   "metadata": {
    "collapsed": false,
    "deletable": true,
    "editable": true
   },
   "outputs": [],
   "source": []
  },
  {
   "cell_type": "code",
   "execution_count": null,
   "metadata": {
    "collapsed": true,
    "deletable": true,
    "editable": true
   },
   "outputs": [],
   "source": []
  }
 ],
 "metadata": {
  "kernelspec": {
   "display_name": "Python 2",
   "language": "python",
   "name": "python2"
  },
  "language_info": {
   "codemirror_mode": {
    "name": "ipython",
    "version": 2
   },
   "file_extension": ".py",
   "mimetype": "text/x-python",
   "name": "python",
   "nbconvert_exporter": "python",
   "pygments_lexer": "ipython2",
   "version": "2.7.12"
  }
 },
 "nbformat": 4,
 "nbformat_minor": 2
}
